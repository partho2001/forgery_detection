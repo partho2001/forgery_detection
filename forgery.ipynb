{
  "nbformat": 4,
  "nbformat_minor": 0,
  "metadata": {
    "colab": {
      "provenance": [],
      "mount_file_id": "1uc1UL4Bir33AtUD_k0d2Vuik-Q6oQAUg",
      "authorship_tag": "ABX9TyOfXzn5QtBR95hc1NJOwzr5",
      "include_colab_link": true
    },
    "kernelspec": {
      "name": "python3",
      "display_name": "Python 3"
    },
    "language_info": {
      "name": "python"
    }
  },
  "cells": [
    {
      "cell_type": "markdown",
      "metadata": {
        "id": "view-in-github",
        "colab_type": "text"
      },
      "source": [
        "<a href=\"https://colab.research.google.com/github/partho2001/forgery_detection/blob/main/forgery.ipynb\" target=\"_parent\"><img src=\"https://colab.research.google.com/assets/colab-badge.svg\" alt=\"Open In Colab\"/></a>"
      ]
    },
    {
      "cell_type": "code",
      "source": [
        "import zipfile\n",
        "import os\n",
        "\n",
        "\n",
        "zip_path = '/content/drive/MyDrive/forgery.zip'\n",
        "extract_path = '/content/CASIA'\n",
        "\n",
        "with zipfile.ZipFile(zip_path, 'r') as zip_ref:\n",
        "    zip_ref.extractall(extract_path)\n",
        "\n",
        "\n",
        "os.listdir(extract_path)\n"
      ],
      "metadata": {
        "id": "fmYjNuFW5Emw",
        "colab": {
          "base_uri": "https://localhost:8080/"
        },
        "outputId": "795c005e-c9a3-4f8a-d1ad-ca1b759587ec"
      },
      "execution_count": 39,
      "outputs": [
        {
          "output_type": "execute_result",
          "data": {
            "text/plain": [
              "['CASIA2']"
            ]
          },
          "metadata": {},
          "execution_count": 39
        }
      ]
    },
    {
      "cell_type": "code",
      "source": [
        "rm -rf `find -type d -name .ipynb_checkpoints`"
      ],
      "metadata": {
        "id": "IF0fttARIctN"
      },
      "execution_count": 57,
      "outputs": []
    },
    {
      "cell_type": "code",
      "execution_count": 58,
      "metadata": {
        "id": "N3J3kk3Jx4dY",
        "colab": {
          "base_uri": "https://localhost:8080/"
        },
        "outputId": "52c38bf4-a5d0-4b9f-d3bd-25f933d802ec"
      },
      "outputs": [
        {
          "output_type": "stream",
          "name": "stdout",
          "text": [
            "Test Accuracy: 99.88%\n"
          ]
        }
      ],
      "source": [
        "import os\n",
        "import torch\n",
        "import torch.nn as nn\n",
        "import torch.optim as optim\n",
        "from torch.utils.data import DataLoader\n",
        "from torchvision import transforms, datasets\n",
        "\n",
        "# Define a simple CNN model\n",
        "class ForgeryDetectionModel(nn.Module):\n",
        "    def __init__(self):\n",
        "        super(ForgeryDetectionModel, self).__init__()\n",
        "        self.conv1 = nn.Conv2d(1, 32, kernel_size=3, stride=1, padding=1)\n",
        "        self.pool = nn.MaxPool2d(kernel_size=2, stride=2)\n",
        "        self.conv2 = nn.Conv2d(32, 64, kernel_size=3, stride=1, padding=1)\n",
        "        self.fc1 = nn.Linear(64 * 8 * 8, 128)  # Adjusted input size based on resized images\n",
        "        self.fc2 = nn.Linear(128, 2)\n",
        "\n",
        "    def forward(self, x):\n",
        "        x = self.pool(torch.relu(self.conv1(x)))\n",
        "        x = self.pool(torch.relu(self.conv2(x)))\n",
        "        x = x.view(-1, 64 * 8 * 8)\n",
        "        x = torch.relu(self.fc1(x))\n",
        "        x = self.fc2(x)\n",
        "        return x\n",
        "\n",
        "# Define data transformations\n",
        "transform = transforms.Compose([\n",
        "    transforms.Grayscale(num_output_channels=1),\n",
        "    transforms.Resize((32, 32)),\n",
        "    transforms.ToTensor(),\n",
        "])\n",
        "\n",
        "# Load CASIA 2.0 dataset, excluding non-image files and Thumbs.db\n",
        "root_folder = '/content/CASIA/CASIA2'\n",
        "\n",
        "# Filter out non-image files and Thumbs.db\n",
        "dataset = datasets.ImageFolder(root=root_folder, transform=transform, is_valid_file=lambda fname: fname.lower().endswith(('.png', '.jpeg', '.jpg', '.bmp', '.ppm', '.pgm', '.tif', '.tiff', '.webp')) and 'Thumbs.db' not in fname)\n",
        "\n",
        "# Split the dataset into training and testing sets\n",
        "train_size = int(0.8 * len(dataset))\n",
        "test_size = len(dataset) - train_size\n",
        "train_dataset, test_dataset = torch.utils.data.random_split(dataset, [train_size, test_size])\n",
        "\n",
        "# Create DataLoader for training and testing\n",
        "train_loader = DataLoader(train_dataset, batch_size=32, shuffle=True)\n",
        "test_loader = DataLoader(test_dataset, batch_size=32, shuffle=False)\n",
        "\n",
        "# Initialize the model, loss function, and optimizer\n",
        "model = ForgeryDetectionModel()\n",
        "criterion = nn.CrossEntropyLoss()\n",
        "optimizer = optim.Adam(model.parameters(), lr=0.001)\n",
        "\n",
        "# Training loop\n",
        "num_epochs = 10\n",
        "for epoch in range(num_epochs):\n",
        "    model.train()\n",
        "    for inputs, labels in train_loader:\n",
        "        optimizer.zero_grad()\n",
        "        outputs = model(inputs)\n",
        "        loss = criterion(outputs, labels)\n",
        "        loss.backward()\n",
        "        optimizer.step()\n",
        "\n",
        "# Evaluation\n",
        "model.eval()\n",
        "correct = 0\n",
        "total = 0\n",
        "with torch.no_grad():\n",
        "    for inputs, labels in test_loader:\n",
        "        outputs = model(inputs)\n",
        "        _, predicted = torch.max(outputs.data, 1)\n",
        "        total += labels.size(0)\n",
        "        correct += (predicted == labels).sum().item()\n",
        "\n",
        "accuracy = correct / total\n",
        "print(f'Test Accuracy: {accuracy * 100:.2f}%')\n"
      ]
    },
    {
      "cell_type": "code",
      "source": [
        "import os\n",
        "\n",
        "# Print the classes in the dataset folder\n",
        "dataset_folder = '/content/CASIA2'\n",
        "classes = [d for d in os.listdir(dataset_folder) if os.path.isdir(os.path.join(dataset_folder, d))]\n",
        "print(\"Classes:\", classes)\n",
        "\n",
        "# Print the number of images in each class\n",
        "for class_name in classes:\n",
        "    class_path = os.path.join(dataset_folder, class_name)\n",
        "    num_images = len([f for f in os.listdir(class_path) if f.endswith('.jpg') or f.endswith('.png')])\n",
        "    print(f\"Class: {class_name}, Num Images: {num_images}\")"
      ],
      "metadata": {
        "colab": {
          "base_uri": "https://localhost:8080/"
        },
        "id": "Ukq556YdBVFO",
        "outputId": "30ade276-08fa-419f-ee45-08c15269b6f2"
      },
      "execution_count": 51,
      "outputs": [
        {
          "output_type": "stream",
          "name": "stdout",
          "text": [
            "Classes: ['CASIA 2 Groundtruth', 'Au', '.ipynb_checkpoints']\n",
            "Class: CASIA 2 Groundtruth, Num Images: 5123\n",
            "Class: Au, Num Images: 7437\n",
            "Class: .ipynb_checkpoints, Num Images: 0\n"
          ]
        }
      ]
    }
  ]
}